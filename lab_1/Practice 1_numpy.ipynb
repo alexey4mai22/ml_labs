{
 "cells": [
  {
   "cell_type": "code",
   "execution_count": 2,
   "id": "77f3513f-499c-49dc-8baa-c82d46a085af",
   "metadata": {},
   "outputs": [],
   "source": [
    "import numpy as np"
   ]
  },
  {
   "cell_type": "markdown",
   "id": "6c352e8f-84d2-4aaf-88ff-004dba999d3a",
   "metadata": {},
   "source": [
    "## Работа с numpy array"
   ]
  },
  {
   "cell_type": "markdown",
   "id": "86b579c0-9174-44ce-b6c3-b44d45a1cb5a",
   "metadata": {},
   "source": [
    "Создавать numpy.array можно из списка"
   ]
  },
  {
   "cell_type": "code",
   "execution_count": 7,
   "id": "c5d44c22-7ca8-428a-80d9-fd68017b02a8",
   "metadata": {},
   "outputs": [
    {
     "data": {
      "text/plain": [
       "array([1, 2, 3, 4, 5])"
      ]
     },
     "execution_count": 7,
     "metadata": {},
     "output_type": "execute_result"
    }
   ],
   "source": [
    "array_from_list = np.array([1, 2, 3, 4, 5])\n",
    "array_from_list"
   ]
  },
  {
   "cell_type": "code",
   "execution_count": 74,
   "id": "720e1201-b3cc-4310-860c-c40bec40589c",
   "metadata": {},
   "outputs": [
    {
     "data": {
      "text/plain": [
       "1"
      ]
     },
     "execution_count": 74,
     "metadata": {},
     "output_type": "execute_result"
    }
   ],
   "source": [
    "array_from_lists = np.array([[1, 2, 3], [4, 5, 6], [7, 8, 9]])\n",
    "array_from_lists[0][0]"
   ]
  },
  {
   "cell_type": "markdown",
   "id": "bc32f0b9-951e-439a-b7e3-0b9e2bbb5026",
   "metadata": {},
   "source": [
    "В numpy порой приходится создавать массивы из нулей или единиц"
   ]
  },
  {
   "cell_type": "code",
   "execution_count": 12,
   "id": "e5e1bf1f-090a-47c7-a247-4b8252f81d71",
   "metadata": {},
   "outputs": [
    {
     "data": {
      "text/plain": [
       "array([[[0., 0., 0.],\n",
       "        [0., 0., 0.],\n",
       "        [0., 0., 0.]],\n",
       "\n",
       "       [[0., 0., 0.],\n",
       "        [0., 0., 0.],\n",
       "        [0., 0., 0.]],\n",
       "\n",
       "       [[0., 0., 0.],\n",
       "        [0., 0., 0.],\n",
       "        [0., 0., 0.]]])"
      ]
     },
     "execution_count": 12,
     "metadata": {},
     "output_type": "execute_result"
    }
   ],
   "source": [
    "zeros_array = np.zeros((3, 3, 3))\n",
    "zeros_array"
   ]
  },
  {
   "cell_type": "code",
   "execution_count": 13,
   "id": "b121f42f-804f-4bce-9569-d24fd99969f7",
   "metadata": {},
   "outputs": [
    {
     "data": {
      "text/plain": [
       "array([[0, 0, 0],\n",
       "       [0, 0, 0],\n",
       "       [0, 0, 0]])"
      ]
     },
     "execution_count": 13,
     "metadata": {},
     "output_type": "execute_result"
    }
   ],
   "source": [
    "zeros_like_a = np.zeros_like(array_from_lists)\n",
    "zeros_like_a"
   ]
  },
  {
   "cell_type": "code",
   "execution_count": 7,
   "id": "75c0f253-43b8-4efb-b746-57eb0152fa2e",
   "metadata": {},
   "outputs": [
    {
     "data": {
      "text/plain": [
       "array([[1., 1., 1.],\n",
       "       [1., 1., 1.],\n",
       "       [1., 1., 1.]])"
      ]
     },
     "execution_count": 7,
     "metadata": {},
     "output_type": "execute_result"
    }
   ],
   "source": [
    "ones_array = np.ones((3, 3))\n",
    "ones_array"
   ]
  },
  {
   "cell_type": "markdown",
   "id": "c1127a1d-bb53-4e5c-9c00-ce6ee626a8e8",
   "metadata": {},
   "source": [
    "Также можно быстро создавать единичную матрицу"
   ]
  },
  {
   "cell_type": "code",
   "execution_count": 14,
   "id": "37791490-a8cd-40e1-a97c-4531109ba37f",
   "metadata": {},
   "outputs": [
    {
     "data": {
      "text/plain": [
       "array([[1., 0., 0., 0.],\n",
       "       [0., 1., 0., 0.],\n",
       "       [0., 0., 1., 0.],\n",
       "       [0., 0., 0., 1.]])"
      ]
     },
     "execution_count": 14,
     "metadata": {},
     "output_type": "execute_result"
    }
   ],
   "source": [
    "eye_array = np.eye(4)\n",
    "eye_array"
   ]
  },
  {
   "cell_type": "markdown",
   "id": "c40bd0d9-cdf5-4d0b-8412-8a58b14087cc",
   "metadata": {},
   "source": [
    "Если нужно создать массив с упорядоченными числами"
   ]
  },
  {
   "cell_type": "code",
   "execution_count": 15,
   "id": "75eefdf3-f778-4fb7-86db-970d46bc33d4",
   "metadata": {},
   "outputs": [
    {
     "data": {
      "text/plain": [
       "array([10, 12, 14, 16, 18, 20, 22, 24])"
      ]
     },
     "execution_count": 15,
     "metadata": {},
     "output_type": "execute_result"
    }
   ],
   "source": [
    "arange_array = np.arange(10, 26, 2)\n",
    "arange_array"
   ]
  },
  {
   "cell_type": "code",
   "execution_count": 16,
   "id": "29d66d9f-6c3e-432a-a10c-111701fd83ba",
   "metadata": {},
   "outputs": [
    {
     "data": {
      "text/plain": [
       "array([0.   , 0.125, 0.25 , 0.375, 0.5  , 0.625, 0.75 , 0.875, 1.   ])"
      ]
     },
     "execution_count": 16,
     "metadata": {},
     "output_type": "execute_result"
    }
   ],
   "source": [
    "linspace_array = np.linspace(0, 1, 9)\n",
    "linspace_array"
   ]
  },
  {
   "cell_type": "markdown",
   "id": "8de2a88c-0693-46c8-b9cf-a26128dad267",
   "metadata": {},
   "source": [
    "Преобразование размерностей"
   ]
  },
  {
   "cell_type": "code",
   "execution_count": 19,
   "id": "a042a990-bf8f-4a89-ba30-09c96d5bef7c",
   "metadata": {},
   "outputs": [
    {
     "data": {
      "text/plain": [
       "array([[10, 12, 14, 16],\n",
       "       [18, 20, 22, 24]])"
      ]
     },
     "execution_count": 19,
     "metadata": {},
     "output_type": "execute_result"
    }
   ],
   "source": [
    "reshaped_array = arange_array.reshape((2, 4))\n",
    "reshaped_array"
   ]
  },
  {
   "cell_type": "code",
   "execution_count": 21,
   "id": "277c37d8-8c0a-445b-802b-43ff55df72a6",
   "metadata": {},
   "outputs": [
    {
     "data": {
      "text/plain": [
       "array([10, 12, 14, 16, 18, 20, 22, 24])"
      ]
     },
     "execution_count": 21,
     "metadata": {},
     "output_type": "execute_result"
    }
   ],
   "source": [
    "raveled_array = reshaped_array.ravel()\n",
    "raveled_array"
   ]
  },
  {
   "cell_type": "code",
   "execution_count": 20,
   "id": "bd1efee3-12a7-449f-bb2f-b3d704cc137e",
   "metadata": {},
   "outputs": [
    {
     "data": {
      "text/plain": [
       "array([10, 12, 14, 16, 18, 20, 22, 24])"
      ]
     },
     "execution_count": 20,
     "metadata": {},
     "output_type": "execute_result"
    }
   ],
   "source": [
    "flattened_array = reshaped_array.flatten()\n",
    "flattened_array"
   ]
  },
  {
   "cell_type": "code",
   "execution_count": 24,
   "id": "bb3678fd-ccb7-40b2-a7ef-25c6cee78936",
   "metadata": {},
   "outputs": [
    {
     "data": {
      "text/plain": [
       "3"
      ]
     },
     "execution_count": 24,
     "metadata": {},
     "output_type": "execute_result"
    }
   ],
   "source": [
    "zeros_array = np.zeros((3, 3, 3))\n",
    "zeros_array.shape[2]"
   ]
  },
  {
   "cell_type": "markdown",
   "id": "db352825-44b4-4618-965e-be989b54642f",
   "metadata": {},
   "source": [
    "## Операции над матрицами"
   ]
  },
  {
   "cell_type": "code",
   "execution_count": 25,
   "id": "6fc5e550-e69d-4b1f-94e9-c07f2e053898",
   "metadata": {},
   "outputs": [],
   "source": [
    "a = np.array([[0, 1], [2, 4]])\n",
    "b = np.array([[-1, 3], [0, -1]])"
   ]
  },
  {
   "cell_type": "code",
   "execution_count": 26,
   "id": "b5650e50-ea8e-4c09-903d-97b359c477ba",
   "metadata": {},
   "outputs": [
    {
     "data": {
      "text/plain": [
       "array([[-1,  4],\n",
       "       [ 2,  3]])"
      ]
     },
     "execution_count": 26,
     "metadata": {},
     "output_type": "execute_result"
    }
   ],
   "source": [
    "a+b"
   ]
  },
  {
   "cell_type": "code",
   "execution_count": 27,
   "id": "4c0eceda-1c73-4cc1-b426-cfa39022f51a",
   "metadata": {},
   "outputs": [
    {
     "data": {
      "text/plain": [
       "array([[ 1, -2],\n",
       "       [ 2,  5]])"
      ]
     },
     "execution_count": 27,
     "metadata": {},
     "output_type": "execute_result"
    }
   ],
   "source": [
    "a-b"
   ]
  },
  {
   "cell_type": "code",
   "execution_count": 28,
   "id": "9f1f3f38-c50c-40db-bdaa-b4e2c324c3ad",
   "metadata": {},
   "outputs": [
    {
     "data": {
      "text/plain": [
       "array([[ 0,  3],\n",
       "       [ 0, -4]])"
      ]
     },
     "execution_count": 28,
     "metadata": {},
     "output_type": "execute_result"
    }
   ],
   "source": [
    "a*b"
   ]
  },
  {
   "cell_type": "code",
   "execution_count": 29,
   "id": "c0257912-93cb-4a66-bccf-eac9e18afdd4",
   "metadata": {},
   "outputs": [
    {
     "data": {
      "text/plain": [
       "array([[ 0, -1],\n",
       "       [-2,  2]])"
      ]
     },
     "execution_count": 29,
     "metadata": {},
     "output_type": "execute_result"
    }
   ],
   "source": [
    "np.dot(a, b)"
   ]
  },
  {
   "cell_type": "code",
   "execution_count": 30,
   "id": "323f3239-d0cd-40a5-8fb1-8df77f1c99f2",
   "metadata": {},
   "outputs": [
    {
     "data": {
      "text/plain": [
       "array([[ 0, -1],\n",
       "       [-2,  2]])"
      ]
     },
     "execution_count": 30,
     "metadata": {},
     "output_type": "execute_result"
    }
   ],
   "source": [
    "a@b"
   ]
  },
  {
   "cell_type": "code",
   "execution_count": 31,
   "id": "e89390f8-5e6b-4e68-989f-89f2d870f397",
   "metadata": {},
   "outputs": [
    {
     "data": {
      "text/plain": [
       "array([[ 0, -1],\n",
       "       [-2,  2]])"
      ]
     },
     "execution_count": 31,
     "metadata": {},
     "output_type": "execute_result"
    }
   ],
   "source": [
    "a.dot(b)"
   ]
  },
  {
   "cell_type": "code",
   "execution_count": 32,
   "id": "cefd9deb-0dce-4578-a4c9-9249bf3747c6",
   "metadata": {},
   "outputs": [
    {
     "data": {
      "text/plain": [
       "array([[-2. ,  0.5],\n",
       "       [ 1. ,  0. ]])"
      ]
     },
     "execution_count": 32,
     "metadata": {},
     "output_type": "execute_result"
    }
   ],
   "source": [
    "np.linalg.inv(a)"
   ]
  },
  {
   "cell_type": "code",
   "execution_count": 33,
   "id": "f1243f46-8744-4f20-9822-dc3ea1070dce",
   "metadata": {},
   "outputs": [
    {
     "data": {
      "text/plain": [
       "-2.0"
      ]
     },
     "execution_count": 33,
     "metadata": {},
     "output_type": "execute_result"
    }
   ],
   "source": [
    "np.linalg.det(a)"
   ]
  },
  {
   "cell_type": "code",
   "execution_count": 34,
   "id": "9b0c5532-9a70-4691-8543-9f72fbb3ccc1",
   "metadata": {},
   "outputs": [
    {
     "data": {
      "text/plain": [
       "array([-5.5,  3. ])"
      ]
     },
     "execution_count": 34,
     "metadata": {},
     "output_type": "execute_result"
    }
   ],
   "source": [
    "c = np.array([3, 1])\n",
    "np.linalg.solve(a, c)"
   ]
  },
  {
   "cell_type": "code",
   "execution_count": 41,
   "id": "47c0a32b-a03a-46fc-a45d-611bce7f5b12",
   "metadata": {},
   "outputs": [
    {
     "data": {
      "text/plain": [
       "7"
      ]
     },
     "execution_count": 41,
     "metadata": {},
     "output_type": "execute_result"
    }
   ],
   "source": [
    "d = np.array([-1, 2, 5])\n",
    "e = np.array([-2, 0, 1])\n",
    "np.sum(d*e)"
   ]
  },
  {
   "cell_type": "code",
   "execution_count": 42,
   "id": "fb41ef5f-e086-4694-abb0-937b3f02d73f",
   "metadata": {},
   "outputs": [
    {
     "data": {
      "text/plain": [
       "array([-2,  0,  1])"
      ]
     },
     "execution_count": 42,
     "metadata": {},
     "output_type": "execute_result"
    }
   ],
   "source": [
    "np.sort(e)"
   ]
  },
  {
   "cell_type": "markdown",
   "id": "72f416b9-dc61-4f9a-a66d-3f92662e4ec9",
   "metadata": {},
   "source": [
    "## Работа со случайными числами"
   ]
  },
  {
   "cell_type": "code",
   "execution_count": 45,
   "id": "effcaaf1-6f46-473f-bbec-50e108ad2c23",
   "metadata": {},
   "outputs": [],
   "source": [
    "seed = 42"
   ]
  },
  {
   "cell_type": "code",
   "execution_count": 48,
   "id": "01fef08e-6709-4c34-97f3-9a9e2cb33b41",
   "metadata": {},
   "outputs": [
    {
     "data": {
      "text/plain": [
       "-1"
      ]
     },
     "execution_count": 48,
     "metadata": {},
     "output_type": "execute_result"
    }
   ],
   "source": [
    "rng = np.random.default_rng(seed=seed)\n",
    "rng.choice(np.array([-1, 0, 1]))"
   ]
  },
  {
   "cell_type": "code",
   "execution_count": null,
   "id": "fd773d35-65cf-4381-ae2c-bc7da97cf70f",
   "metadata": {},
   "outputs": [],
   "source": [
    "rng.choice()"
   ]
  },
  {
   "cell_type": "code",
   "execution_count": 52,
   "id": "27946a44-9012-4ca0-b2ec-e3db2bc4ddfb",
   "metadata": {},
   "outputs": [
    {
     "data": {
      "text/plain": [
       "2"
      ]
     },
     "execution_count": 52,
     "metadata": {},
     "output_type": "execute_result"
    }
   ],
   "source": [
    "rng.choice(5)"
   ]
  },
  {
   "cell_type": "code",
   "execution_count": 53,
   "id": "27a6405c-ad6c-430a-990a-a8ba5bf76ca3",
   "metadata": {},
   "outputs": [
    {
     "data": {
      "text/plain": [
       "0.6973680290593639"
      ]
     },
     "execution_count": 53,
     "metadata": {},
     "output_type": "execute_result"
    }
   ],
   "source": [
    "rng.random()"
   ]
  },
  {
   "cell_type": "code",
   "execution_count": 56,
   "id": "4642b63b-d00c-43da-a719-3fdfef31ec87",
   "metadata": {},
   "outputs": [
    {
     "data": {
      "text/plain": [
       "0.12784040316728537"
      ]
     },
     "execution_count": 56,
     "metadata": {},
     "output_type": "execute_result"
    }
   ],
   "source": [
    "rng.normal(0, 1)"
   ]
  },
  {
   "cell_type": "markdown",
   "id": "b61905d3-4da3-4d51-ae56-aa72f7fa548c",
   "metadata": {},
   "source": [
    "Legacy методы (не делайте так)"
   ]
  },
  {
   "cell_type": "code",
   "execution_count": 59,
   "id": "9187087a-2a2d-4b0c-857a-f58636146a47",
   "metadata": {},
   "outputs": [
    {
     "data": {
      "text/plain": [
       "4"
      ]
     },
     "execution_count": 59,
     "metadata": {},
     "output_type": "execute_result"
    }
   ],
   "source": [
    "np.random.randint(10)"
   ]
  },
  {
   "cell_type": "code",
   "execution_count": 62,
   "id": "e7fc7312-1b11-4653-bc98-238269ac2a6e",
   "metadata": {},
   "outputs": [
    {
     "data": {
      "text/plain": [
       "0.6982025108755355"
      ]
     },
     "execution_count": 62,
     "metadata": {},
     "output_type": "execute_result"
    }
   ],
   "source": [
    "np.random.rand()"
   ]
  },
  {
   "cell_type": "markdown",
   "id": "5b3ad41d-0681-40ed-b7c7-b9bba1f95249",
   "metadata": {},
   "source": [
    "## Базовые статистики"
   ]
  },
  {
   "cell_type": "code",
   "execution_count": 63,
   "id": "757c8684-c6db-43f5-bbfa-1769e0256367",
   "metadata": {},
   "outputs": [],
   "source": [
    "data = rng.normal(0, 1, 1000)"
   ]
  },
  {
   "cell_type": "markdown",
   "id": "5bf40596-8e66-47fd-963c-0fd0491d46cf",
   "metadata": {},
   "source": [
    "Выборочное среднее"
   ]
  },
  {
   "cell_type": "code",
   "execution_count": 64,
   "id": "d49dc016-9ec6-4be1-8420-7090a33891a0",
   "metadata": {},
   "outputs": [
    {
     "data": {
      "text/plain": [
       "-0.02627777534954081"
      ]
     },
     "execution_count": 64,
     "metadata": {},
     "output_type": "execute_result"
    }
   ],
   "source": [
    "data.mean()"
   ]
  },
  {
   "cell_type": "markdown",
   "id": "e1c722ea-b7a1-4596-93fb-a4e36f4d6ae1",
   "metadata": {},
   "source": [
    "Стандартное отклонение"
   ]
  },
  {
   "cell_type": "code",
   "execution_count": 65,
   "id": "f874d199-060d-4a54-891f-c5539a6a062d",
   "metadata": {},
   "outputs": [
    {
     "data": {
      "text/plain": [
       "0.9855196837564155"
      ]
     },
     "execution_count": 65,
     "metadata": {},
     "output_type": "execute_result"
    }
   ],
   "source": [
    "data.std()"
   ]
  },
  {
   "cell_type": "markdown",
   "id": "ac3baef3-e66d-4095-8b1c-07c5b8a935ef",
   "metadata": {},
   "source": [
    "Квантили"
   ]
  },
  {
   "cell_type": "code",
   "execution_count": 67,
   "id": "8b4f68cb-b813-4700-b02f-42325984f2c8",
   "metadata": {},
   "outputs": [
    {
     "data": {
      "text/plain": [
       "0.5898867452250403"
      ]
     },
     "execution_count": 67,
     "metadata": {},
     "output_type": "execute_result"
    }
   ],
   "source": [
    "np.quantile(data, 0.75)"
   ]
  },
  {
   "cell_type": "code",
   "execution_count": 68,
   "id": "2470554a-5047-45c6-9024-f5aec0bc2632",
   "metadata": {},
   "outputs": [
    {
     "data": {
      "text/plain": [
       "0.004504985818013596"
      ]
     },
     "execution_count": 68,
     "metadata": {},
     "output_type": "execute_result"
    }
   ],
   "source": [
    "np.median(data)"
   ]
  },
  {
   "cell_type": "code",
   "execution_count": null,
   "id": "a7cd3c52-ebe7-4de3-a05e-bfa42a1b864d",
   "metadata": {},
   "outputs": [],
   "source": []
  }
 ],
 "metadata": {
  "kernelspec": {
   "display_name": "Python 3 (ipykernel)",
   "language": "python",
   "name": "python3"
  },
  "language_info": {
   "codemirror_mode": {
    "name": "ipython",
    "version": 3
   },
   "file_extension": ".py",
   "mimetype": "text/x-python",
   "name": "python",
   "nbconvert_exporter": "python",
   "pygments_lexer": "ipython3",
   "version": "3.11.7"
  }
 },
 "nbformat": 4,
 "nbformat_minor": 5
}
